{
 "cells": [
  {
   "cell_type": "markdown",
   "metadata": {},
   "source": [
    "# Assignment 1: ODrive setup and initial kinematics exploration\n",
    "\n",
    "In homework 1 we will learn the basic functionality of the ODrive motor controller and the kinematics of the 5-bar leg. There are 5 problems below. You will turn this assignment in by uploading it to your own github repository for this assignment and then sending a link to ngravish@eng.ucsd.edu with the subject MAE_207_HW1. The assignment is to be completed in pairs, one per team.\n",
    "\n",
    "If you would like, you directly ```fork``` this repository into your github account, this is found in the upper right hand corner. You can then download the repository to your computer using the ```clone``` button on the right side. Once you are done with the assignment, commit the changes back to the github online repository. \n",
    "\n",
    "Alternatively you can just download the .ipynb file, edit it as you solve the problems, and then in the end upload to a github repo.\n",
    "\n",
    "Team #:\n",
    "\n",
    "Names: Kristoffer Borgen Knudsen, U07665240\n",
    "\n"
   ]
  },
  {
   "cell_type": "markdown",
   "metadata": {},
   "source": [
    "## Problem 1: Familiarization with ODrive firmware\n",
    "\n",
    "__1.1__ You should follow the instructions to flash the motor controller firmware found [here](https://github.com/madcowswe/ODrive).\n",
    "\n",
    "__1.2__ In the ```Odrive/Firmware/MotorControl``` folder are the code files that control the motor. The most important file is ```low_level.c```. Find this file and familiarize yourself with it. \n",
    "\n",
    "__1.3__ In ```low_level.c``` the main function for motor control is ```control_motor_loop(Motor_t* motor)```. Find this function and copy and paste blocks of it into the cell below.  Annotate the function step-by-step in simple language the operations it performs. (*I have started this annotation*). Use the three backticks \\`\\`\\` and the letter c for the c language to highlight each code block.\n",
    "\n",
    "\n",
    "\n",
    "\n"
   ]
  },
  {
   "cell_type": "markdown",
   "metadata": {},
   "source": [
    "```c\n",
    "void control_motor_loop(Motor_t* motor) {\n",
    "    while (*(motor->axis_legacy.enable_control)) {\n",
    "        if (osSignalWait(M_SIGNAL_PH_CURRENT_MEAS, PH_CURRENT_MEAS_TIMEOUT).status != osEventSignal) {\n",
    "            motor->error = ERROR_FOC_MEASUREMENT_TIMEOUT;\n",
    "            break;\n",
    "        }\n",
    "\n",
    "        if (!do_checks(motor))\n",
    "            break;\n",
    "        if (!loop_updates(motor))\n",
    "            break;\n",
    "```\n",
    "\n",
    "The above code initiates a loop that will continue as long as the enable_control flag is true. The first three if statements check for errors in the motor current measurement, and check if there are errors in the motor operation.\n",
    "\n",
    "```c\n",
    "\n",
    "// Only runs if anticogging.calib_anticogging is true; non-blocking\n",
    "        anti_cogging_calibration(motor);\n",
    "\n",
    "        // Position control\n",
    "        // TODO Decide if we want to use encoder or pll position here\n",
    "        float vel_des = motor->vel_setpoint;\n",
    "        if (motor->control_mode >= CTRL_MODE_POSITION_CONTROL) {\n",
    "            if (motor->rotor_mode == ROTOR_MODE_SENSORLESS) {\n",
    "                motor->error = ERROR_POS_CTRL_DURING_SENSORLESS;\n",
    "                break;\n",
    "            }\n",
    "            float pos_err = motor->pos_setpoint - motor->encoder.pll_pos;\n",
    "            vel_des += motor->pos_gain * pos_err;\n",
    "        }\n",
    "\n",
    "```\n",
    "\n",
    "The above code first checks if the anticogging is true, which means that nothing is blocking. The position control defines a velocity setpoint and then checks for errors in the position control and sensorless rotor mode. It then calculates a position error based on our setpoint and calculates a new velocity to remove this error. \n",
    "\n",
    "```c\n",
    "\n",
    "// Velocity limiting\n",
    "        float vel_lim = motor->vel_limit;\n",
    "        if (vel_des > vel_lim) vel_des = vel_lim;\n",
    "        if (vel_des < -vel_lim) vel_des = -vel_lim;\n",
    "\n",
    "        // Velocity control\n",
    "        float Iq = motor->current_setpoint;\n",
    "\n",
    "        // Anti-cogging is enabled after calibration\n",
    "        // We get the current position and apply a current feed-forward\n",
    "        // ensuring that we handle negative encoder positions properly (-1 == motor->encoder.encoder_cpr - 1)\n",
    "        if (motor->anticogging.use_anticogging) {\n",
    "            Iq += motor->anticogging.cogging_map[mod(motor->encoder.pll_pos, motor->encoder.encoder_cpr)];\n",
    "        }\n",
    "\n",
    "        float v_err = vel_des - get_pll_vel(motor);\n",
    "        if (motor->control_mode >= CTRL_MODE_VELOCITY_CONTROL) {\n",
    "            Iq += motor->vel_gain * v_err;\n",
    "        }\n",
    "\n",
    "```\n",
    "\n",
    "The above code checks if the velocity is out of bounds. If so, the velocity is set to the limit. The velocity variable, Iq, is allowed to increase/decrease as long as nothing is blocking. Then it calculates the velocity error. Iq is then further increased/decreased by multiplying the error with the velocity gain. This is then the P in a PID controller. \n",
    "\n",
    "```c\n",
    "\n",
    "// Velocity integral action before limiting\n",
    "        Iq += motor->vel_integrator_current;\n",
    "\n",
    "        // Apply motor direction correction\n",
    "        if (motor->rotor_mode == ROTOR_MODE_ENCODER ||\n",
    "            motor->rotor_mode == ROTOR_MODE_RUN_ENCODER_TEST_SENSORLESS) {\n",
    "            Iq *= motor->encoder.motor_dir;\n",
    "        }\n",
    "\n",
    "        // Current limiting\n",
    "        float Ilim = MACRO_MIN(motor->current_control.current_lim, motor->current_control.max_allowed_current);\n",
    "        bool limited = false;\n",
    "        if (Iq > Ilim) {\n",
    "            limited = true;\n",
    "            Iq = Ilim;\n",
    "        }\n",
    "        if (Iq < -Ilim) {\n",
    "            limited = true;\n",
    "            Iq = -Ilim;\n",
    "        }\n",
    "\n",
    "```\n",
    "\n",
    "The above code takes the integrator in the PID into consideration and checks the need of motor direction correction. Then it checks if Iq exceeds the limit voltage for the current. If it does, then Iq is set to the limit. \n",
    "\n",
    "```c\n",
    "\n",
    "// Velocity integrator (behaviour dependent on limiting)\n",
    "        if (motor->control_mode < CTRL_MODE_VELOCITY_CONTROL) {\n",
    "            // reset integral if not in use\n",
    "            motor->vel_integrator_current = 0.0f;\n",
    "        } else {\n",
    "            if (limited) {\n",
    "                // TODO make decayfactor configurable\n",
    "                motor->vel_integrator_current *= 0.99f;\n",
    "            } else {\n",
    "                motor->vel_integrator_current += (motor->vel_integrator_gain * current_meas_period) * v_err;\n",
    "            }\n",
    "        }\n",
    "\n",
    "\n",
    "```\n",
    "First if-statement checks if the current control mode is smaller thant the one in the velocity control, if so it resets the integral term of the PID. If not, it checks if we have reached the limit or not. If we have, we reduce the integral term a little. If not we increase/decrease it by multiplying with the error. \n",
    "\n",
    "```c\n",
    "\n",
    "     // Execute current command\n",
    "        if (motor->motor_type == MOTOR_TYPE_HIGH_CURRENT) {\n",
    "            if(!FOC_current(motor, 0.0f, Iq)){\n",
    "                break; // in case of error exit loop, motor->error has been set by FOC_current\n",
    "            }\n",
    "        } else if (motor->motor_type == MOTOR_TYPE_GIMBAL) {\n",
    "            //In gimbal motor mode, current is reinterptreted as voltage.\n",
    "            if(!FOC_voltage(motor, 0.0f, Iq)){\n",
    "                break; // in case of error exit loop, motor->error has been set by FOC_voltage\n",
    "            }\n",
    "        } else {\n",
    "            motor->error = ERROR_NOT_IMPLEMENTED_MOTOR_TYPE;\n",
    "            break;\n",
    "        }\n",
    "\n",
    "        ++(motor->loop_counter);\n",
    "\n",
    "```\n",
    "\n",
    "In the first if-statement we deal with errors due to high current. If this is the case, we also checks if it is not equal to the FOC current. If so, we break. Then we check if gimbal mode is true and again check if it is not equal to the FOC current. If so, we break. If none of the above, we update the motor error and increase the loop-counter. \n",
    "\n",
    "```c\n",
    "\n",
    "    //We are exiting control, reset Ibus, and update brake current\n",
    "    motor->current_control.Ibus = 0.0f;\n",
    "    update_brake_current();\n",
    "}\n",
    "\n",
    "```\n",
    "\n",
    "As it says, we are exiting. Reset the current to 0 and update the brake current. "
   ]
  },
  {
   "cell_type": "markdown",
   "metadata": {},
   "source": [
    "## Problem 2: Connecting to ODrive through the python library"
   ]
  },
  {
   "cell_type": "markdown",
   "metadata": {},
   "source": [
    "__2.1__ The ODrive provides a python library called ```odrive``` in the ```/ODrive/Tools/``` directory. A python library consists of a folder (```odrive``` in this case) which contains python files and a file called ```__init__.py```. Find this library.\n",
    "\n",
    "__2.2__ Test that you can import the ```odrive``` library and other required libraries into Python by running the code below (shift-enter when the cell is selected). You may need to move your Copy the ```odrive``` folder to the same folder as this notebook, or move this notebook to the same directory as ```odrive```. \n",
    "\n"
   ]
  },
  {
   "cell_type": "code",
   "execution_count": 96,
   "metadata": {},
   "outputs": [],
   "source": [
    "import odrive.core\n",
    "import time\n",
    "import math\n",
    "\n",
    "import numpy as np\n",
    "import matplotlib.pyplot as plt\n",
    "\n",
    "from IPython.lib.display import YouTubeVideo # for youtube videos\n",
    "\n",
    "# This may be qt4 depending on your python environment\n",
    "%matplotlib qt5\n"
   ]
  },
  {
   "cell_type": "markdown",
   "metadata": {},
   "source": [
    "__2.3__ Run the code below to connect to the odrive motor controller. If this executes successfully you will be able to access the motor controller functions through the ```my_drive``` variable."
   ]
  },
  {
   "cell_type": "code",
   "execution_count": 97,
   "metadata": {},
   "outputs": [
    {
     "name": "stdout",
     "output_type": "stream",
     "text": [
      "looking for ODrive...\n",
      "Found ODrive via PyUSB\n",
      "ConfigurationValue 1\n",
      "\tInterfaceNumber 0,0\n",
      "\t\tEndpointAddress 130\n",
      "\tInterfaceNumber 1,1\n",
      "\t\tEndpointAddress 1\n",
      "\t\tEndpointAddress 129\n",
      "\n",
      "EndpointAddress for writing 1\n",
      "\n",
      "EndpointAddress for reading 129\n",
      "\n",
      "Connecting to device on USB device bus 20 device 3\n",
      "JSON: [{\"name\":\"\",\"id\":0,\"type\":\"json\",\"access\":\"rw\"},{\"name\":\"vbus_voltage\",\"id\":1,\"type\":\"float\",\"access\":\"r\"},{\"name\":\"serial_number\",\"id\":2,\"type\":\"uint64\",\"access\":\"r\"},{\"name\":\"run_anticogging_calibration\",\"id\":3,\"type\":\"function\",\"arguments\":[]},{\"name\":\"config\",\"id\":5,\"type\":\"object\",\"members\":[{\"name\":\"brake_resistance\",\"id\":6,\"type\":\"float\",\"access\":\"rw\"}]},{\"name\":\"axis0\",\"id\":8,\"type\":\"object\",\"members\":[{\"name\":\"config\",\"id\":9,\"type\":\"object\",\"members\":[{\"name\":\"enable_control_at_start\",\"id\":10,\"type\":\"bool\",\"access\":\"rw\"},{\"name\":\"do_calibration_at_start\",\"id\":11,\"type\":\"bool\",\"access\":\"rw\"}]}]},{\"name\":\"motor0\",\"id\":14,\"type\":\"object\",\"members\":[{\"name\":\"config\",\"id\":15,\"type\":\"object\",\"members\":[{\"name\":\"control_mode\",\"id\":16,\"type\":\"uint8\",\"access\":\"rw\"},{\"name\":\"counts_per_step\",\"id\":17,\"type\":\"float\",\"access\":\"rw\"},{\"name\":\"pole_pairs\",\"id\":18,\"type\":\"int32\",\"access\":\"rw\"},{\"name\":\"pos_gain\",\"id\":19,\"type\":\"float\",\"access\":\"rw\"},{\"name\":\"vel_gain\",\"id\":20,\"type\":\"float\",\"access\":\"rw\"},{\"name\":\"vel_integrator_gain\",\"id\":21,\"type\":\"float\",\"access\":\"rw\"},{\"name\":\"vel_limit\",\"id\":22,\"type\":\"float\",\"access\":\"rw\"},{\"name\":\"calibration_current\",\"id\":23,\"type\":\"float\",\"access\":\"rw\"},{\"name\":\"resistance_calib_max_voltage\",\"id\":24,\"type\":\"float\",\"access\":\"rw\"},{\"name\":\"phase_inductance\",\"id\":25,\"type\":\"float\",\"access\":\"rw\"},{\"name\":\"phase_resistance\",\"id\":26,\"type\":\"float\",\"access\":\"rw\"},{\"name\":\"motor_type\",\"id\":27,\"type\":\"uint8\",\"access\":\"rw\"},{\"name\":\"rotor_mode\",\"id\":28,\"type\":\"uint8\",\"access\":\"rw\"}]},{\"name\":\"error\",\"id\":30,\"type\":\"uint8\",\"access\":\"rw\"},{\"name\":\"pos_setpoint\",\"id\":31,\"type\":\"float\",\"access\":\"rw\"},{\"name\":\"vel_setpoint\",\"id\":32,\"type\":\"float\",\"access\":\"rw\"},{\"name\":\"vel_integrator_current\",\"id\":33,\"type\":\"float\",\"access\":\"rw\"},{\"name\":\"current_setpoint\",\"id\":34,\"type\":\"float\",\"access\":\"rw\"},{\"name\":\"current_meas_phB\",\"id\":35,\"type\":\"float\",\"access\":\"r\"},{\"name\":\"current_meas_phC\",\"id\":36,\"type\":\"float\",\"access\":\"r\"},{\"name\":\"DC_calib.phB\",\"id\":37,\"type\":\"float\",\"access\":\"rw\"},{\"name\":\"DC_calib.phC\",\"id\":38,\"type\":\"float\",\"access\":\"rw\"},{\"name\":\"shunt_conductance\",\"id\":39,\"type\":\"float\",\"access\":\"rw\"},{\"name\":\"phase_current_rev_gain\",\"id\":40,\"type\":\"float\",\"access\":\"rw\"},{\"name\":\"thread_ready\",\"id\":41,\"type\":\"bool\",\"access\":\"rw\"},{\"name\":\"control_deadline\",\"id\":42,\"type\":\"uint16\",\"access\":\"rw\"},{\"name\":\"last_cpu_time\",\"id\":43,\"type\":\"uint16\",\"access\":\"rw\"},{\"name\":\"loop_counter\",\"id\":44,\"type\":\"uint32\",\"access\":\"rw\"},{\"name\":\"current_control\",\"id\":45,\"type\":\"object\",\"members\":[{\"name\":\"config\",\"id\":46,\"type\":\"object\",\"members\":[{\"name\":\"current_lim\",\"id\":47,\"type\":\"float\",\"access\":\"rw\"}]},{\"name\":\"p_gain\",\"id\":49,\"type\":\"float\",\"access\":\"rw\"},{\"name\":\"i_gain\",\"id\":50,\"type\":\"float\",\"access\":\"rw\"},{\"name\":\"v_current_control_integral_d\",\"id\":51,\"type\":\"float\",\"access\":\"rw\"},{\"name\":\"v_current_control_integral_q\",\"id\":52,\"type\":\"float\",\"access\":\"rw\"},{\"name\":\"Iq_setpoint\",\"id\":53,\"type\":\"float\",\"access\":\"rw\"},{\"name\":\"Iq_measured\",\"id\":54,\"type\":\"float\",\"access\":\"rw\"},{\"name\":\"Ibus\",\"id\":55,\"type\":\"float\",\"access\":\"r\"}]},{\"name\":\"gate_driver\",\"id\":57,\"type\":\"object\",\"members\":[{\"name\":\"drv_fault\",\"id\":58,\"type\":\"uint16\",\"access\":\"rw\"},{\"name\":\"status_reg_1\",\"id\":59,\"type\":\"uint16\",\"access\":\"rw\"},{\"name\":\"status_reg_2\",\"id\":60,\"type\":\"uint16\",\"access\":\"rw\"},{\"name\":\"ctrl_reg_1\",\"id\":61,\"type\":\"uint16\",\"access\":\"rw\"},{\"name\":\"ctrl_reg_2\",\"id\":62,\"type\":\"uint16\",\"access\":\"rw\"}]},{\"name\":\"encoder\",\"id\":64,\"type\":\"object\",\"members\":[{\"name\":\"config\",\"id\":65,\"type\":\"object\",\"members\":[{\"name\":\"use_index\",\"id\":66,\"type\":\"bool\",\"access\":\"rw\"},{\"name\":\"manually_calibrated\",\"id\":67,\"type\":\"bool\",\"access\":\"rw\"},{\"name\":\"idx_search_speed\",\"id\":68,\"type\":\"float\",\"access\":\"rw\"},{\"name\":\"cpr\",\"id\":69,\"type\":\"int32\",\"access\":\"rw\"},{\"name\":\"offset\",\"id\":70,\"type\":\"int32\",\"access\":\"rw\"},{\"name\":\"motor_dir\",\"id\":71,\"type\":\"int32\",\"access\":\"rw\"}]},{\"name\":\"phase\",\"id\":73,\"type\":\"float\",\"access\":\"r\"},{\"name\":\"pll_pos\",\"id\":74,\"type\":\"float\",\"access\":\"rw\"},{\"name\":\"pll_vel\",\"id\":75,\"type\":\"float\",\"access\":\"rw\"},{\"name\":\"pll_kp\",\"id\":76,\"type\":\"float\",\"access\":\"rw\"},{\"name\":\"pll_ki\",\"id\":77,\"type\":\"float\",\"access\":\"rw\"},{\"name\":\"encoder_offset\",\"id\":78,\"type\":\"int32\",\"access\":\"rw\"},{\"name\":\"encoder_state\",\"id\":79,\"type\":\"int32\",\"access\":\"rw\"},{\"name\":\"motor_dir\",\"id\":80,\"type\":\"int32\",\"access\":\"rw\"}]},{\"name\":\"set_pos_setpoint\",\"id\":82,\"type\":\"function\",\"arguments\":[{\"name\":\"pos_setpoint\",\"id\":83,\"type\":\"float\",\"access\":\"rw\"},{\"name\":\"vel_feed_forward\",\"id\":84,\"type\":\"float\",\"access\":\"rw\"},{\"name\":\"current_feed_forward\",\"id\":85,\"type\":\"float\",\"access\":\"rw\"}]},{\"name\":\"set_vel_setpoint\",\"id\":87,\"type\":\"function\",\"arguments\":[{\"name\":\"vel_setpoint\",\"id\":88,\"type\":\"float\",\"access\":\"rw\"},{\"name\":\"current_feed_forward\",\"id\":89,\"type\":\"float\",\"access\":\"rw\"}]},{\"name\":\"set_current_setpoint\",\"id\":91,\"type\":\"function\",\"arguments\":[{\"name\":\"current_setpoint\",\"id\":92,\"type\":\"float\",\"access\":\"rw\"}]},{\"name\":\"timing_log\",\"id\":94,\"type\":\"object\",\"members\":[{\"name\":\"TIMING_LOG_GENERAL\",\"id\":95,\"type\":\"uint16\",\"access\":\"rw\"},{\"name\":\"TIMING_LOG_ADC_CB_M0_I\",\"id\":96,\"type\":\"uint16\",\"access\":\"rw\"},{\"name\":\"TIMING_LOG_ADC_CB_M0_DC\",\"id\":97,\"type\":\"uint16\",\"access\":\"rw\"},{\"name\":\"TIMING_LOG_ADC_CB_M1_I\",\"id\":98,\"type\":\"uint16\",\"access\":\"rw\"},{\"name\":\"TIMING_LOG_ADC_CB_M1_DC\",\"id\":99,\"type\":\"uint16\",\"access\":\"rw\"},{\"name\":\"TIMING_LOG_MEAS_R\",\"id\":100,\"type\":\"uint16\",\"access\":\"rw\"},{\"name\":\"TIMING_LOG_MEAS_L\",\"id\":101,\"type\":\"uint16\",\"access\":\"rw\"},{\"name\":\"TIMING_LOG_ENC_CALIB\",\"id\":102,\"type\":\"uint16\",\"access\":\"rw\"},{\"name\":\"TIMING_LOG_IDX_SEARCH\",\"id\":103,\"type\":\"uint16\",\"access\":\"rw\"},{\"name\":\"TIMING_LOG_FOC_VOLTAGE\",\"id\":104,\"type\":\"uint16\",\"access\":\"rw\"},{\"name\":\"TIMING_LOG_FOC_CURRENT\",\"id\":105,\"type\":\"uint16\",\"access\":\"rw\"}]}]},{\"name\":\"axis1\",\"id\":108,\"type\":\"object\",\"members\":[{\"name\":\"config\",\"id\":109,\"type\":\"object\",\"members\":[{\"name\":\"enable_control_at_start\",\"id\":110,\"type\":\"bool\",\"access\":\"rw\"},{\"name\":\"do_calibration_at_start\",\"id\":111,\"type\":\"bool\",\"access\":\"rw\"}]}]},{\"name\":\"motor1\",\"id\":114,\"type\":\"object\",\"members\":[{\"name\":\"config\",\"id\":115,\"type\":\"object\",\"members\":[{\"name\":\"control_mode\",\"id\":116,\"type\":\"uint8\",\"access\":\"rw\"},{\"name\":\"counts_per_step\",\"id\":117,\"type\":\"float\",\"access\":\"rw\"},{\"name\":\"pole_pairs\",\"id\":118,\"type\":\"int32\",\"access\":\"rw\"},{\"name\":\"pos_gain\",\"id\":119,\"type\":\"float\",\"access\":\"rw\"},{\"name\":\"vel_gain\",\"id\":120,\"type\":\"float\",\"access\":\"rw\"},{\"name\":\"vel_integrator_gain\",\"id\":121,\"type\":\"float\",\"access\":\"rw\"},{\"name\":\"vel_limit\",\"id\":122,\"type\":\"float\",\"access\":\"rw\"},{\"name\":\"calibration_current\",\"id\":123,\"type\":\"float\",\"access\":\"rw\"},{\"name\":\"resistance_calib_max_voltage\",\"id\":124,\"type\":\"float\",\"access\":\"rw\"},{\"name\":\"phase_inductance\",\"id\":125,\"type\":\"float\",\"access\":\"rw\"},{\"name\":\"phase_resistance\",\"id\":126,\"type\":\"float\",\"access\":\"rw\"},{\"name\":\"motor_type\",\"id\":127,\"type\":\"uint8\",\"access\":\"rw\"},{\"name\":\"rotor_mode\",\"id\":128,\"type\":\"uint8\",\"access\":\"rw\"}]},{\"name\":\"error\",\"id\":130,\"type\":\"uint8\",\"access\":\"rw\"},{\"name\":\"pos_setpoint\",\"id\":131,\"type\":\"float\",\"access\":\"rw\"},{\"name\":\"vel_setpoint\",\"id\":132,\"type\":\"float\",\"access\":\"rw\"},{\"name\":\"vel_integrator_current\",\"id\":133,\"type\":\"float\",\"access\":\"rw\"},{\"name\":\"current_setpoint\",\"id\":134,\"type\":\"float\",\"access\":\"rw\"},{\"name\":\"current_meas_phB\",\"id\":135,\"type\":\"float\",\"access\":\"r\"},{\"name\":\"current_meas_phC\",\"id\":136,\"type\":\"float\",\"access\":\"r\"},{\"name\":\"DC_calib.phB\",\"id\":137,\"type\":\"float\",\"access\":\"rw\"},{\"name\":\"DC_calib.phC\",\"id\":138,\"type\":\"float\",\"access\":\"rw\"},{\"name\":\"shunt_conductance\",\"id\":139,\"type\":\"float\",\"access\":\"rw\"},{\"name\":\"phase_current_rev_gain\",\"id\":140,\"type\":\"float\",\"access\":\"rw\"},{\"name\":\"thread_ready\",\"id\":141,\"type\":\"bool\",\"access\":\"rw\"},{\"name\":\"control_deadline\",\"id\":142,\"type\":\"uint16\",\"access\":\"rw\"},{\"name\":\"last_cpu_time\",\"id\":143,\"type\":\"uint16\",\"access\":\"rw\"},{\"name\":\"loop_counter\",\"id\":144,\"type\":\"uint32\",\"access\":\"rw\"},{\"name\":\"current_control\",\"id\":145,\"type\":\"object\",\"members\":[{\"name\":\"config\",\"id\":146,\"type\":\"object\",\"members\":[{\"name\":\"current_lim\",\"id\":147,\"type\":\"float\",\"access\":\"rw\"}]},{\"name\":\"p_gain\",\"id\":149,\"type\":\"float\",\"access\":\"rw\"},{\"name\":\"i_gain\",\"id\":150,\"type\":\"float\",\"access\":\"rw\"},{\"name\":\"v_current_control_integral_d\",\"id\":151,\"type\":\"float\",\"access\":\"rw\"},{\"name\":\"v_current_control_integral_q\",\"id\":152,\"type\":\"float\",\"access\":\"rw\"},{\"name\":\"Iq_setpoint\",\"id\":153,\"type\":\"float\",\"access\":\"rw\"},{\"name\":\"Iq_measured\",\"id\":154,\"type\":\"float\",\"access\":\"rw\"},{\"name\":\"Ibus\",\"id\":155,\"type\":\"float\",\"access\":\"r\"}]},{\"name\":\"gate_driver\",\"id\":157,\"type\":\"object\",\"members\":[{\"name\":\"drv_fault\",\"id\":158,\"type\":\"uint16\",\"access\":\"rw\"},{\"name\":\"status_reg_1\",\"id\":159,\"type\":\"uint16\",\"access\":\"rw\"},{\"name\":\"status_reg_2\",\"id\":160,\"type\":\"uint16\",\"access\":\"rw\"},{\"name\":\"ctrl_reg_1\",\"id\":161,\"type\":\"uint16\",\"access\":\"rw\"},{\"name\":\"ctrl_reg_2\",\"id\":162,\"type\":\"uint16\",\"access\":\"rw\"}]},{\"name\":\"encoder\",\"id\":164,\"type\":\"object\",\"members\":[{\"name\":\"config\",\"id\":165,\"type\":\"object\",\"members\":[{\"name\":\"use_index\",\"id\":166,\"type\":\"bool\",\"access\":\"rw\"},{\"name\":\"manually_calibrated\",\"id\":167,\"type\":\"bool\",\"access\":\"rw\"},{\"name\":\"idx_search_speed\",\"id\":168,\"type\":\"float\",\"access\":\"rw\"},{\"name\":\"cpr\",\"id\":169,\"type\":\"int32\",\"access\":\"rw\"},{\"name\":\"offset\",\"id\":170,\"type\":\"int32\",\"access\":\"rw\"},{\"name\":\"motor_dir\",\"id\":171,\"type\":\"int32\",\"access\":\"rw\"}]},{\"name\":\"phase\",\"id\":173,\"type\":\"float\",\"access\":\"r\"},{\"name\":\"pll_pos\",\"id\":174,\"type\":\"float\",\"access\":\"rw\"},{\"name\":\"pll_vel\",\"id\":175,\"type\":\"float\",\"access\":\"rw\"},{\"name\":\"pll_kp\",\"id\":176,\"type\":\"float\",\"access\":\"rw\"},{\"name\":\"pll_ki\",\"id\":177,\"type\":\"float\",\"access\":\"rw\"},{\"name\":\"encoder_offset\",\"id\":178,\"type\":\"int32\",\"access\":\"rw\"},{\"name\":\"encoder_state\",\"id\":179,\"type\":\"int32\",\"access\":\"rw\"},{\"name\":\"motor_dir\",\"id\":180,\"type\":\"int32\",\"access\":\"rw\"}]},{\"name\":\"set_pos_setpoint\",\"id\":182,\"type\":\"function\",\"arguments\":[{\"name\":\"pos_setpoint\",\"id\":183,\"type\":\"float\",\"access\":\"rw\"},{\"name\":\"vel_feed_forward\",\"id\":184,\"type\":\"float\",\"access\":\"rw\"},{\"name\":\"current_feed_forward\",\"id\":185,\"type\":\"float\",\"access\":\"rw\"}]},{\"name\":\"set_vel_setpoint\",\"id\":187,\"type\":\"function\",\"arguments\":[{\"name\":\"vel_setpoint\",\"id\":188,\"type\":\"float\",\"access\":\"rw\"},{\"name\":\"current_feed_forward\",\"id\":189,\"type\":\"float\",\"access\":\"rw\"}]},{\"name\":\"set_current_setpoint\",\"id\":191,\"type\":\"function\",\"arguments\":[{\"name\":\"current_setpoint\",\"id\":192,\"type\":\"float\",\"access\":\"rw\"}]},{\"name\":\"timing_log\",\"id\":194,\"type\":\"object\",\"members\":[{\"name\":\"TIMING_LOG_GENERAL\",\"id\":195,\"type\":\"uint16\",\"access\":\"rw\"},{\"name\":\"TIMING_LOG_ADC_CB_M0_I\",\"id\":196,\"type\":\"uint16\",\"access\":\"rw\"},{\"name\":\"TIMING_LOG_ADC_CB_M0_DC\",\"id\":197,\"type\":\"uint16\",\"access\":\"rw\"},{\"name\":\"TIMING_LOG_ADC_CB_M1_I\",\"id\":198,\"type\":\"uint16\",\"access\":\"rw\"},{\"name\":\"TIMING_LOG_ADC_CB_M1_DC\",\"id\":199,\"type\":\"uint16\",\"access\":\"rw\"},{\"name\":\"TIMING_LOG_MEAS_R\",\"id\":200,\"type\":\"uint16\",\"access\":\"rw\"},{\"name\":\"TIMING_LOG_MEAS_L\",\"id\":201,\"type\":\"uint16\",\"access\":\"rw\"},{\"name\":\"TIMING_LOG_ENC_CALIB\",\"id\":202,\"type\":\"uint16\",\"access\":\"rw\"},{\"name\":\"TIMING_LOG_IDX_SEARCH\",\"id\":203,\"type\":\"uint16\",\"access\":\"rw\"},{\"name\":\"TIMING_LOG_FOC_VOLTAGE\",\"id\":204,\"type\":\"uint16\",\"access\":\"rw\"},{\"name\":\"TIMING_LOG_FOC_CURRENT\",\"id\":205,\"type\":\"uint16\",\"access\":\"rw\"}]}]},{\"name\":\"save_configuration\",\"id\":208,\"type\":\"function\",\"arguments\":[]},{\"name\":\"erase_configuration\",\"id\":210,\"type\":\"function\",\"arguments\":[]},{\"name\":\"reboot\",\"id\":212,\"type\":\"function\",\"arguments\":[]},{\"name\":\"enter_dfu_mode\",\"id\":214,\"type\":\"function\",\"arguments\":[]}]\n",
      "property [anonymous] has unsupported type json\n"
     ]
    }
   ],
   "source": [
    "my_drive = odrive.core.find_any(consider_usb=True, consider_serial=False, printer=print)\n",
    "\n",
    "# define handles to the motor functions\n",
    "m0=my_drive.motor0\n",
    "m1=my_drive.motor1 \n"
   ]
  },
  {
   "cell_type": "markdown",
   "metadata": {},
   "source": [
    "## Problem 3: Exploring and interacting with the ODrive"
   ]
  },
  {
   "cell_type": "markdown",
   "metadata": {},
   "source": [
    "__3.1__ Write a function to call read the encoder position and velocity estimates and return them. As a start, the encoder position for motor 0 can be read using the ```m0.encoder.pll_pos,m1.encoder.pll_pos``` command. "
   ]
  },
  {
   "cell_type": "code",
   "execution_count": 3,
   "metadata": {},
   "outputs": [
    {
     "name": "stdout",
     "output_type": "stream",
     "text": [
      "(-0.5577558875083923, 0.4095306396484375, -0.7464047074317932, 0.0029144287109375)\n"
     ]
    }
   ],
   "source": [
    "# in python we can define a function using the def command. The function definition code is indicated by tab indented code. When the \n",
    "# tab indentation stops the function definition has stopped. As shown below we can define a function and then call it immediately after\n",
    "def get_encoder_state():\n",
    "    m0 = my_drive.motor0\n",
    "    m1 = my_drive.motor1 \n",
    "    \n",
    "    motor0_position = m0.encoder.pll_pos\n",
    "    motor1_position = m1.encoder.pll_pos\n",
    "    motor0_velocity = m0.encoder.pll_vel\n",
    "    motor1_velocity = m1.encoder.pll_vel\n",
    "    \n",
    "    return (motor0_position, motor0_velocity, motor1_position, motor1_velocity)\n",
    "    \n",
    "    \n",
    "# We can now call this function in the same code block\n",
    "state = get_encoder_state()\n",
    "print(state)\n"
   ]
  },
  {
   "cell_type": "markdown",
   "metadata": {},
   "source": [
    "__3.2__ The motor encoder returns absolute position measurements that are zerod on the position the motor was in during startup. It is useful to define new motor origins for the left and righ motor. Extend the legs so that they are straight and then read the encoder positions to the tuple variable \n",
    "\n",
    "```home_position = (motor0_home, motor1_home)```\n",
    "\n",
    "A tuple is like an array, it can contain sequences of objects (numbers, strings, etc.), but it cannot be changed after it is written so it is perfect for storing unchangeable data like the home location."
   ]
  },
  {
   "cell_type": "code",
   "execution_count": 4,
   "metadata": {},
   "outputs": [
    {
     "name": "stdout",
     "output_type": "stream",
     "text": [
      "(-0.6169902682304382, 0.7658100724220276)\n"
     ]
    }
   ],
   "source": [
    "\n",
    "m0 = my_drive.motor0\n",
    "m1 = my_drive.motor1 \n",
    "    \n",
    "motor0_home = m0.encoder.pll_pos\n",
    "motor1_home = m1.encoder.pll_pos\n",
    "\n",
    "home_position = (motor0_home, motor1_home)\n",
    "\n",
    "print(home_position)\n"
   ]
  },
  {
   "cell_type": "markdown",
   "metadata": {},
   "source": [
    "__3.3__ The motor move commands will move them to absolute positions with respect to the encoder zero position, this may not be the same as the ```home_position``` that we defined above. Write a function to move the motors to an absolute position relative to the ```home_position```. For reference we can move a motor with the ```set_pos_setpoint(pos_setpoint, vel_feed_forward, current_feed_forward)``` command. We don't need the feedforward terms in this problem."
   ]
  },
  {
   "cell_type": "code",
   "execution_count": 65,
   "metadata": {},
   "outputs": [],
   "source": [
    "def move_motors(motor1_new_position, motor2_new_position, home):\n",
    "    (home0,home1) = home\n",
    "    pos0_setpoint = motor1_new_position - home0\n",
    "    pos1_setpoint = motor2_new_position - home1\n",
    "    \n",
    "    my_drive.motor0.set_pos_setpoint(pos0_setpoint, 0.0, 0.0)\n",
    "    my_drive.motor1.set_pos_setpoint(pos1_setpoint, 0.0, 0.0)\n",
    "\n",
    "# we can call the function here \n",
    "move_motors(0, 0, home_position) # note make the intial move distance small!!"
   ]
  },
  {
   "cell_type": "markdown",
   "metadata": {},
   "source": [
    "## Problem 4: Determine the workspace of the robot leg"
   ]
  },
  {
   "cell_type": "markdown",
   "metadata": {},
   "source": [
    "__4.1__ The end of the robot leg has a hole in it. Place a pen in the hole, place a paper below the robot and trace out the boundary of the robot leg's workspace by hand. Make sure to note where the edge of the aluminum frame is. Take a picture of the workspace tracing (keep your robot in place) and attach it to you this notebook. You can attach images by putting them in the same directory and then writing \n",
    "\n",
    "[Boundary limit](bound.JPG)\n"
   ]
  },
  {
   "cell_type": "markdown",
   "metadata": {},
   "source": [
    "__4.2__ Now repeat the measurement of the leg workspace while recording the encoder position (*relative to your new home*) in a loop. This is a measurement configuration space of the robot which is two dimensional ($\\theta_0$, $\\theta_1$), and bounded by the leg range of motion. Make a plot of the configuration space boundaries by plotting your measured positions as ```xy``` coordinates ($\\theta_0$, $\\theta_1$). Include two plots below, the first is the configuration space using encoder units, the second is scaled to $-\\pi,\\pi$. You will have to determined the calibration constant (note the encoder generates 2048\\*4 counts per revolution)."
   ]
  },
  {
   "cell_type": "code",
   "execution_count": 87,
   "metadata": {},
   "outputs": [
    {
     "data": {
      "text/plain": [
       "Text(0,0.5,'Right')"
      ]
     },
     "execution_count": 87,
     "metadata": {},
     "output_type": "execute_result"
    },
    {
     "data": {
      "image/png": "[encoded data removed]",
      "text/plain": [
       "<matplotlib.figure.Figure at 0x11b3e3a90>"
      ]
     },
     "metadata": {},
     "output_type": "display_data"
    }
   ],
   "source": [
    "\n",
    "# Setup an array to store the encoder positions\n",
    "left_motor = [] # initialize a empty list. You can add to a list with the left_motor.append(item) command\n",
    "right_motor = [] # initialize an empty list\n",
    "\n",
    "#different amplitude and phase combinations of your leg gait.    \n",
    "left = m0.encoder.pll_pos - motor0_home\n",
    "right = m1.encoder.pll_pos - motor1_home\n",
    "\n",
    "t0 = time.monotonic()\n",
    "t_stop = time.time() + 30\n",
    "\n",
    "my_drive.config.brake_resistance = 0.0\n",
    "\n",
    "#Turn off the motors\n",
    "m0.config.pos_gain = 0.0;\n",
    "m1.config.pos_gain = 0.0;\n",
    "\n",
    "while True:\n",
    "    time.sleep(0.01)\n",
    "    \n",
    "    left = (m0.encoder.pll_pos - motor0_home)\n",
    "    right = (m1.encoder.pll_pos - motor1_home)\n",
    "    \n",
    "    left_motor.append(left)\n",
    "    right_motor.append(right)\n",
    "    \n",
    "    if time.time() > t_stop:\n",
    "        break\n",
    "\n",
    "calibration = int(2048*4/math.pi)\n",
    "   \n",
    "# Plot the results using encoder values (centered on your new home) and scaled to be between -pi, pi\n",
    "plt.subplot(1,2,1)\n",
    "plt.plot(left_motor, right_motor)\n",
    "plt.xlabel('Left')\n",
    "plt.ylabel('Right')\n",
    "\n",
    "plt.subplot(1,2,2)\n",
    "plt.plot(np.array(left_motor) / calibration, np.array(right_motor) / calibration)\n",
    "plt.xlabel('Left')\n",
    "plt.ylabel('Right')\n",
    "\n"
   ]
  },
  {
   "cell_type": "markdown",
   "metadata": {},
   "source": [
    "## Problem 5: Command a simple cyclic gait of the leg"
   ]
  },
  {
   "cell_type": "markdown",
   "metadata": {},
   "source": [
    "__5.1__ In this last problem we will command a simple cyclic gait of the leg by sending sinusoidal position commands to the motors and exploring how phase and amplitude differences influence the foot motion. Record the encoder position while running the gait and provide plots of the motor angles as a function of time. Additionally, take a video of each gait and post it to youtube, including a link in the notebook at the very bottom. You can include youtube videos by entering the command ```YouTubeVideo('video_code')``` in a code cell, where video code is found from the youtube page.\n",
    "\n",
    "*Provide plots and videos for three different gaits*\n"
   ]
  },
  {
   "cell_type": "code",
   "execution_count": 43,
   "metadata": {},
   "outputs": [],
   "source": [
    "#Sinusoidal positions for different gaits\n",
    "def sinus_motors(Amplitude_left, Amplitude_right, Phase_left, Phase_right, w):\n",
    "    left_motor = [] \n",
    "    right_motor = []\n",
    "    t = []\n",
    "\n",
    "    initial_time = time.monotonic()  # record the current time\n",
    "    current_time = time.monotonic() \n",
    "\n",
    "    m0.config.pos_gain = 20.0;\n",
    "    m1.config.pos_gain = 20.0;\n",
    "\n",
    "    while (current_time - initial_time) < 15:\n",
    "        time.sleep(0.1)\n",
    "    \n",
    "        setpoint0 = Amplitude_left*math.sin(time.monotonic()*w-Phase_left)-motor0_home\n",
    "        setpoint1 = Amplitude_right*math.sin(time.monotonic()*w-Phase_right)-motor1_home\n",
    "\n",
    "        my_drive.motor0.set_pos_setpoint(setpoint0, 0.1, 0.5)\n",
    "        my_drive.motor1.set_pos_setpoint(setpoint1, 0.1, 0.5)\n",
    "    \n",
    "        left = (m0.encoder.pll_pos-motor0_home)\n",
    "        right = (m1.encoder.pll_pos-motor1_home)\n",
    "    \n",
    "        left_motor.append(left)\n",
    "        right_motor.append(right)\n",
    "    \n",
    "        current_time = time.monotonic() \n",
    "        t.append(current_time)\n",
    "    \n",
    "    my_drive.motor0.set_pos_setpoint(motor0_home, 0.0, 0.0)\n",
    "    my_drive.motor1.set_pos_setpoint(motor1_home, 0.0, 0.0)\n",
    "    return (left_motor, right_motor, t)\n",
    "    \n",
    "    \n"
   ]
  },
  {
   "cell_type": "code",
   "execution_count": 100,
   "metadata": {},
   "outputs": [
    {
     "data": {
      "text/plain": [
       "Text(0,0.5,'Right')"
      ]
     },
     "execution_count": 100,
     "metadata": {},
     "output_type": "execute_result"
    }
   ],
   "source": [
    "Amplitude_left = 700\n",
    "Amplitude_right = -700\n",
    "Phase_left = 1\n",
    "Phase_right = 3\n",
    "w = 0.5*math.pi\n",
    "\n",
    "(left_motor, right_motor, t) = sinus_motors(Amplitude_left, Amplitude_right, Phase_left, Phase_right, w)\n",
    "\n",
    "plt.subplot(1,2,1)\n",
    "plt.plot(t, left_motor)\n",
    "plt.xlabel('time')\n",
    "plt.ylabel('Left')\n",
    "\n",
    "plt.subplot(1,2,2)\n",
    "plt.plot(t, right_motor)\n",
    "plt.xlabel('time')\n",
    "plt.ylabel('Right')"
   ]
  },
  {
   "cell_type": "code",
   "execution_count": 117,
   "metadata": {},
   "outputs": [
    {
     "data": {
      "image/jpeg": "[encoded data removed]",
      "text/html": [
       "\n",
       "        <iframe\n",
       "            width=\"400\"\n",
       "            height=\"300\"\n",
       "            src=\"https://www.youtube.com/embed/iS9LEicsxY8\"\n",
       "            frameborder=\"0\"\n",
       "            allowfullscreen\n",
       "        ></iframe>\n",
       "        "
      ],
      "text/plain": [
       "<IPython.lib.display.YouTubeVideo at 0x1289f79e8>"
      ]
     },
     "execution_count": 117,
     "metadata": {},
     "output_type": "execute_result"
    }
   ],
   "source": [
    "\n",
    "YouTubeVideo('iS9LEicsxY8')"
   ]
  },
  {
   "cell_type": "code",
   "execution_count": 102,
   "metadata": {},
   "outputs": [
    {
     "data": {
      "text/plain": [
       "Text(0,0.5,'Right')"
      ]
     },
     "execution_count": 102,
     "metadata": {},
     "output_type": "execute_result"
    }
   ],
   "source": [
    "Amplitude_left = 900\n",
    "Amplitude_right = -1200\n",
    "Phase_left = 20\n",
    "Phase_right = 50\n",
    "w = 0.8*math.pi\n",
    "\n",
    "(left_motor, right_motor, t) = sinus_motors(Amplitude_left, Amplitude_right, Phase_left, Phase_right, w)\n",
    "\n",
    "plt.subplot(1,2,1)\n",
    "plt.plot(t, left_motor)\n",
    "plt.xlabel('time')\n",
    "plt.ylabel('Left')\n",
    "\n",
    "plt.subplot(1,2,2)\n",
    "plt.plot(t, right_motor)\n",
    "plt.xlabel('time')\n",
    "plt.ylabel('Right')"
   ]
  },
  {
   "cell_type": "code",
   "execution_count": 116,
   "metadata": {},
   "outputs": [
    {
     "data": {
      "image/jpeg": "[encoded data removed]",
      "text/html": [
       "\n",
       "        <iframe\n",
       "            width=\"400\"\n",
       "            height=\"300\"\n",
       "            src=\"https://www.youtube.com/embed/wg_l13fLhyc\"\n",
       "            frameborder=\"0\"\n",
       "            allowfullscreen\n",
       "        ></iframe>\n",
       "        "
      ],
      "text/plain": [
       "<IPython.lib.display.YouTubeVideo at 0x11b4c8a90>"
      ]
     },
     "execution_count": 116,
     "metadata": {},
     "output_type": "execute_result"
    }
   ],
   "source": [
    "YouTubeVideo('wg_l13fLhyc')"
   ]
  },
  {
   "cell_type": "code",
   "execution_count": 105,
   "metadata": {},
   "outputs": [
    {
     "data": {
      "text/plain": [
       "Text(0,0.5,'Right')"
      ]
     },
     "execution_count": 105,
     "metadata": {},
     "output_type": "execute_result"
    }
   ],
   "source": [
    "Amplitude_left = 600\n",
    "Amplitude_right = 600\n",
    "Phase_left = 1\n",
    "Phase_right = 0.5\n",
    "w = 0.25*math.pi\n",
    "\n",
    "(left_motor, right_motor, t) = sinus_motors(Amplitude_left, Amplitude_right, Phase_left, Phase_right, w)\n",
    "\n",
    "plt.subplot(1,2,1)\n",
    "plt.plot(t, left_motor)\n",
    "plt.xlabel('time')\n",
    "plt.ylabel('Left')\n",
    "\n",
    "plt.subplot(1,2,2)\n",
    "plt.plot(t, right_motor)\n",
    "plt.xlabel('time')\n",
    "plt.ylabel('Right')"
   ]
  },
  {
   "cell_type": "code",
   "execution_count": 118,
   "metadata": {},
   "outputs": [
    {
     "data": {
      "image/jpeg": "[encoded data removed]",
      "text/html": [
       "\n",
       "        <iframe\n",
       "            width=\"400\"\n",
       "            height=\"300\"\n",
       "            src=\"https://www.youtube.com/embed/gnML0jm8I-0\"\n",
       "            frameborder=\"0\"\n",
       "            allowfullscreen\n",
       "        ></iframe>\n",
       "        "
      ],
      "text/plain": [
       "<IPython.lib.display.YouTubeVideo at 0x1289f76a0>"
      ]
     },
     "execution_count": 118,
     "metadata": {},
     "output_type": "execute_result"
    }
   ],
   "source": [
    "YouTubeVideo('gnML0jm8I-0')"
   ]
  },
  {
   "cell_type": "code",
   "execution_count": null,
   "metadata": {},
   "outputs": [],
   "source": []
  }
 ],
 "metadata": {
  "kernelspec": {
   "display_name": "Python 3",
   "language": "python",
   "name": "python3"
  },
  "language_info": {
   "codemirror_mode": {
    "name": "ipython",
    "version": 3
   },
   "file_extension": ".py",
   "mimetype": "text/x-python",
   "name": "python",
   "nbconvert_exporter": "python",
   "pygments_lexer": "ipython3",
   "version": "3.6.4"
  }
 },
 "nbformat": 4,
 "nbformat_minor": 2
}
